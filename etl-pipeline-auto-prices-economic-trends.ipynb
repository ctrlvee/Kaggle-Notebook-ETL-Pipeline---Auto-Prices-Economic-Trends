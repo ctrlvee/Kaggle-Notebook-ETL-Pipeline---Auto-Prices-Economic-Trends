{
 "cells": [
  {
   "cell_type": "markdown",
   "id": "cd5723f8",
   "metadata": {
    "papermill": {
     "duration": 0.006072,
     "end_time": "2025-04-22T01:18:56.560095",
     "exception": false,
     "start_time": "2025-04-22T01:18:56.554023",
     "status": "completed"
    },
    "tags": []
   },
   "source": [
    "# Extract"
   ]
  },
  {
   "cell_type": "code",
   "execution_count": 1,
   "id": "5bdc8e73",
   "metadata": {
    "_cell_guid": "b1076dfc-b9ad-4769-8c92-a6c4dae69d19",
    "_uuid": "8f2839f25d086af736a60e9eeb907d3b93b6e0e5",
    "execution": {
     "iopub.execute_input": "2025-04-22T01:18:56.572394Z",
     "iopub.status.busy": "2025-04-22T01:18:56.572047Z",
     "iopub.status.idle": "2025-04-22T01:18:58.569023Z",
     "shell.execute_reply": "2025-04-22T01:18:58.568067Z"
    },
    "papermill": {
     "duration": 2.005104,
     "end_time": "2025-04-22T01:18:58.570763",
     "exception": false,
     "start_time": "2025-04-22T01:18:56.565659",
     "status": "completed"
    },
    "tags": []
   },
   "outputs": [],
   "source": [
    "import pandas as pd"
   ]
  },
  {
   "cell_type": "code",
   "execution_count": 2,
   "id": "0bc486b4",
   "metadata": {
    "execution": {
     "iopub.execute_input": "2025-04-22T01:18:58.586013Z",
     "iopub.status.busy": "2025-04-22T01:18:58.585480Z",
     "iopub.status.idle": "2025-04-22T01:18:58.645134Z",
     "shell.execute_reply": "2025-04-22T01:18:58.644108Z"
    },
    "papermill": {
     "duration": 0.069798,
     "end_time": "2025-04-22T01:18:58.646770",
     "exception": false,
     "start_time": "2025-04-22T01:18:58.576972",
     "status": "completed"
    },
    "tags": []
   },
   "outputs": [
    {
     "data": {
      "text/html": [
       "<div>\n",
       "<style scoped>\n",
       "    .dataframe tbody tr th:only-of-type {\n",
       "        vertical-align: middle;\n",
       "    }\n",
       "\n",
       "    .dataframe tbody tr th {\n",
       "        vertical-align: top;\n",
       "    }\n",
       "\n",
       "    .dataframe thead th {\n",
       "        text-align: right;\n",
       "    }\n",
       "</style>\n",
       "<table border=\"1\" class=\"dataframe\">\n",
       "  <thead>\n",
       "    <tr style=\"text-align: right;\">\n",
       "      <th></th>\n",
       "      <th>Month/Year</th>\n",
       "      <th>New Price ($)</th>\n",
       "      <th>Used Price ($)</th>\n",
       "      <th>Inflation Rate (%)</th>\n",
       "      <th>Interest Rate (%)</th>\n",
       "      <th>Units Sold</th>\n",
       "    </tr>\n",
       "  </thead>\n",
       "  <tbody>\n",
       "    <tr>\n",
       "      <th>0</th>\n",
       "      <td>19-Jan</td>\n",
       "      <td>25,000</td>\n",
       "      <td>18,000</td>\n",
       "      <td>1.60%</td>\n",
       "      <td>2.40%</td>\n",
       "      <td>28,500</td>\n",
       "    </tr>\n",
       "    <tr>\n",
       "      <th>1</th>\n",
       "      <td>19-Feb</td>\n",
       "      <td>25,000</td>\n",
       "      <td>17,900</td>\n",
       "      <td>1.50%</td>\n",
       "      <td>2.40%</td>\n",
       "      <td>29,000</td>\n",
       "    </tr>\n",
       "    <tr>\n",
       "      <th>2</th>\n",
       "      <td>19-Mar</td>\n",
       "      <td>25,000</td>\n",
       "      <td>17,800</td>\n",
       "      <td>1.90%</td>\n",
       "      <td>2.40%</td>\n",
       "      <td>31,500</td>\n",
       "    </tr>\n",
       "    <tr>\n",
       "      <th>3</th>\n",
       "      <td>19-Apr</td>\n",
       "      <td>25,000</td>\n",
       "      <td>17,700</td>\n",
       "      <td>2.00%</td>\n",
       "      <td>2.40%</td>\n",
       "      <td>30,000</td>\n",
       "    </tr>\n",
       "    <tr>\n",
       "      <th>4</th>\n",
       "      <td>19-May</td>\n",
       "      <td>25,000</td>\n",
       "      <td>17,600</td>\n",
       "      <td>1.80%</td>\n",
       "      <td>2.40%</td>\n",
       "      <td>32,000</td>\n",
       "    </tr>\n",
       "    <tr>\n",
       "      <th>...</th>\n",
       "      <td>...</td>\n",
       "      <td>...</td>\n",
       "      <td>...</td>\n",
       "      <td>...</td>\n",
       "      <td>...</td>\n",
       "      <td>...</td>\n",
       "    </tr>\n",
       "    <tr>\n",
       "      <th>56</th>\n",
       "      <td>23-Sep</td>\n",
       "      <td>26,700</td>\n",
       "      <td>15,300</td>\n",
       "      <td>4.30%</td>\n",
       "      <td>5.25%</td>\n",
       "      <td>72,000</td>\n",
       "    </tr>\n",
       "    <tr>\n",
       "      <th>57</th>\n",
       "      <td>23-Oct</td>\n",
       "      <td>26,800</td>\n",
       "      <td>15,400</td>\n",
       "      <td>4.00%</td>\n",
       "      <td>5.00%</td>\n",
       "      <td>73,500</td>\n",
       "    </tr>\n",
       "    <tr>\n",
       "      <th>58</th>\n",
       "      <td>23-Nov</td>\n",
       "      <td>26,900</td>\n",
       "      <td>15,500</td>\n",
       "      <td>3.80%</td>\n",
       "      <td>4.75%</td>\n",
       "      <td>74,000</td>\n",
       "    </tr>\n",
       "    <tr>\n",
       "      <th>59</th>\n",
       "      <td>23-Dec</td>\n",
       "      <td>27,000</td>\n",
       "      <td>15,600</td>\n",
       "      <td>3.50%</td>\n",
       "      <td>4.50%</td>\n",
       "      <td>75,000</td>\n",
       "    </tr>\n",
       "    <tr>\n",
       "      <th>60</th>\n",
       "      <td>NaN</td>\n",
       "      <td>NaN</td>\n",
       "      <td>NaN</td>\n",
       "      <td>NaN</td>\n",
       "      <td>NaN</td>\n",
       "      <td>NaN</td>\n",
       "    </tr>\n",
       "  </tbody>\n",
       "</table>\n",
       "<p>61 rows × 6 columns</p>\n",
       "</div>"
      ],
      "text/plain": [
       "   Month/Year New Price ($) Used Price ($) Inflation Rate (%)  \\\n",
       "0      19-Jan        25,000         18,000              1.60%   \n",
       "1      19-Feb        25,000         17,900              1.50%   \n",
       "2      19-Mar        25,000         17,800              1.90%   \n",
       "3      19-Apr        25,000         17,700              2.00%   \n",
       "4      19-May        25,000         17,600              1.80%   \n",
       "..        ...           ...            ...                ...   \n",
       "56     23-Sep        26,700         15,300              4.30%   \n",
       "57     23-Oct        26,800         15,400              4.00%   \n",
       "58     23-Nov        26,900         15,500              3.80%   \n",
       "59     23-Dec        27,000         15,600              3.50%   \n",
       "60        NaN           NaN            NaN                NaN   \n",
       "\n",
       "   Interest Rate (%) Units Sold  \n",
       "0              2.40%     28,500  \n",
       "1              2.40%     29,000  \n",
       "2              2.40%     31,500  \n",
       "3              2.40%     30,000  \n",
       "4              2.40%     32,000  \n",
       "..               ...        ...  \n",
       "56             5.25%     72,000  \n",
       "57             5.00%     73,500  \n",
       "58             4.75%     74,000  \n",
       "59             4.50%     75,000  \n",
       "60               NaN        NaN  \n",
       "\n",
       "[61 rows x 6 columns]"
      ]
     },
     "execution_count": 2,
     "metadata": {},
     "output_type": "execute_result"
    }
   ],
   "source": [
    "filename = '/kaggle/input/auto-prices-and-economic-trends-20192023/automobile_prices_economics_2019_2023.csv'\n",
    "df = pd.read_csv(filename, dtype=str)\n",
    "df"
   ]
  },
  {
   "cell_type": "markdown",
   "id": "53077cf7",
   "metadata": {
    "papermill": {
     "duration": 0.005413,
     "end_time": "2025-04-22T01:18:58.657811",
     "exception": false,
     "start_time": "2025-04-22T01:18:58.652398",
     "status": "completed"
    },
    "tags": []
   },
   "source": []
  },
  {
   "cell_type": "code",
   "execution_count": 3,
   "id": "8f88228e",
   "metadata": {
    "execution": {
     "iopub.execute_input": "2025-04-22T01:18:58.670797Z",
     "iopub.status.busy": "2025-04-22T01:18:58.669964Z",
     "iopub.status.idle": "2025-04-22T01:18:58.678333Z",
     "shell.execute_reply": "2025-04-22T01:18:58.677327Z"
    },
    "papermill": {
     "duration": 0.016617,
     "end_time": "2025-04-22T01:18:58.679927",
     "exception": false,
     "start_time": "2025-04-22T01:18:58.663310",
     "status": "completed"
    },
    "tags": []
   },
   "outputs": [
    {
     "data": {
      "text/plain": [
       "Month/Year            object\n",
       "New Price ($)         object\n",
       "Used Price ($)        object\n",
       "Inflation Rate (%)    object\n",
       "Interest Rate (%)     object\n",
       "Units Sold            object\n",
       "dtype: object"
      ]
     },
     "execution_count": 3,
     "metadata": {},
     "output_type": "execute_result"
    }
   ],
   "source": [
    "df.dtypes"
   ]
  },
  {
   "cell_type": "markdown",
   "id": "a831a6b6",
   "metadata": {
    "papermill": {
     "duration": 0.005471,
     "end_time": "2025-04-22T01:18:58.691217",
     "exception": false,
     "start_time": "2025-04-22T01:18:58.685746",
     "status": "completed"
    },
    "tags": []
   },
   "source": [
    "# Transform"
   ]
  },
  {
   "cell_type": "code",
   "execution_count": 4,
   "id": "f39eda47",
   "metadata": {
    "execution": {
     "iopub.execute_input": "2025-04-22T01:18:58.703686Z",
     "iopub.status.busy": "2025-04-22T01:18:58.703306Z",
     "iopub.status.idle": "2025-04-22T01:18:58.708754Z",
     "shell.execute_reply": "2025-04-22T01:18:58.707822Z"
    },
    "papermill": {
     "duration": 0.013515,
     "end_time": "2025-04-22T01:18:58.710205",
     "exception": false,
     "start_time": "2025-04-22T01:18:58.696690",
     "status": "completed"
    },
    "tags": []
   },
   "outputs": [],
   "source": [
    "sz = len(df)\n",
    "def print_lines(filename):\n",
    "    f = open(filename)\n",
    "    for i in range(sz):\n",
    "        line = f.readline()\n",
    "        print('line: ', i + 1, line)\n",
    "    f.close()"
   ]
  },
  {
   "cell_type": "code",
   "execution_count": 5,
   "id": "7c8793d9",
   "metadata": {
    "execution": {
     "iopub.execute_input": "2025-04-22T01:18:58.723462Z",
     "iopub.status.busy": "2025-04-22T01:18:58.722627Z",
     "iopub.status.idle": "2025-04-22T01:18:58.726933Z",
     "shell.execute_reply": "2025-04-22T01:18:58.726107Z"
    },
    "papermill": {
     "duration": 0.012265,
     "end_time": "2025-04-22T01:18:58.728259",
     "exception": false,
     "start_time": "2025-04-22T01:18:58.715994",
     "status": "completed"
    },
    "tags": []
   },
   "outputs": [],
   "source": [
    "# print_lines(filename)"
   ]
  },
  {
   "cell_type": "markdown",
   "id": "0c49e9b7",
   "metadata": {
    "papermill": {
     "duration": 0.008803,
     "end_time": "2025-04-22T01:18:58.745943",
     "exception": false,
     "start_time": "2025-04-22T01:18:58.737140",
     "status": "completed"
    },
    "tags": []
   },
   "source": [
    "> ## Clean Data"
   ]
  },
  {
   "cell_type": "code",
   "execution_count": 6,
   "id": "02765f3f",
   "metadata": {
    "execution": {
     "iopub.execute_input": "2025-04-22T01:18:58.758939Z",
     "iopub.status.busy": "2025-04-22T01:18:58.758393Z",
     "iopub.status.idle": "2025-04-22T01:18:58.773277Z",
     "shell.execute_reply": "2025-04-22T01:18:58.772342Z"
    },
    "papermill": {
     "duration": 0.022911,
     "end_time": "2025-04-22T01:18:58.774622",
     "exception": false,
     "start_time": "2025-04-22T01:18:58.751711",
     "status": "completed"
    },
    "tags": []
   },
   "outputs": [
    {
     "data": {
      "text/html": [
       "<div>\n",
       "<style scoped>\n",
       "    .dataframe tbody tr th:only-of-type {\n",
       "        vertical-align: middle;\n",
       "    }\n",
       "\n",
       "    .dataframe tbody tr th {\n",
       "        vertical-align: top;\n",
       "    }\n",
       "\n",
       "    .dataframe thead th {\n",
       "        text-align: right;\n",
       "    }\n",
       "</style>\n",
       "<table border=\"1\" class=\"dataframe\">\n",
       "  <thead>\n",
       "    <tr style=\"text-align: right;\">\n",
       "      <th></th>\n",
       "      <th>Month/Year</th>\n",
       "      <th>New Price ($)</th>\n",
       "      <th>Used Price ($)</th>\n",
       "      <th>Inflation Rate (%)</th>\n",
       "      <th>Interest Rate (%)</th>\n",
       "      <th>Units Sold</th>\n",
       "    </tr>\n",
       "  </thead>\n",
       "  <tbody>\n",
       "    <tr>\n",
       "      <th>0</th>\n",
       "      <td>False</td>\n",
       "      <td>False</td>\n",
       "      <td>False</td>\n",
       "      <td>False</td>\n",
       "      <td>False</td>\n",
       "      <td>False</td>\n",
       "    </tr>\n",
       "    <tr>\n",
       "      <th>1</th>\n",
       "      <td>False</td>\n",
       "      <td>False</td>\n",
       "      <td>False</td>\n",
       "      <td>False</td>\n",
       "      <td>False</td>\n",
       "      <td>False</td>\n",
       "    </tr>\n",
       "    <tr>\n",
       "      <th>2</th>\n",
       "      <td>False</td>\n",
       "      <td>False</td>\n",
       "      <td>False</td>\n",
       "      <td>False</td>\n",
       "      <td>False</td>\n",
       "      <td>False</td>\n",
       "    </tr>\n",
       "    <tr>\n",
       "      <th>3</th>\n",
       "      <td>False</td>\n",
       "      <td>False</td>\n",
       "      <td>False</td>\n",
       "      <td>False</td>\n",
       "      <td>False</td>\n",
       "      <td>False</td>\n",
       "    </tr>\n",
       "    <tr>\n",
       "      <th>4</th>\n",
       "      <td>False</td>\n",
       "      <td>False</td>\n",
       "      <td>False</td>\n",
       "      <td>False</td>\n",
       "      <td>False</td>\n",
       "      <td>False</td>\n",
       "    </tr>\n",
       "    <tr>\n",
       "      <th>...</th>\n",
       "      <td>...</td>\n",
       "      <td>...</td>\n",
       "      <td>...</td>\n",
       "      <td>...</td>\n",
       "      <td>...</td>\n",
       "      <td>...</td>\n",
       "    </tr>\n",
       "    <tr>\n",
       "      <th>56</th>\n",
       "      <td>False</td>\n",
       "      <td>False</td>\n",
       "      <td>False</td>\n",
       "      <td>False</td>\n",
       "      <td>False</td>\n",
       "      <td>False</td>\n",
       "    </tr>\n",
       "    <tr>\n",
       "      <th>57</th>\n",
       "      <td>False</td>\n",
       "      <td>False</td>\n",
       "      <td>False</td>\n",
       "      <td>False</td>\n",
       "      <td>False</td>\n",
       "      <td>False</td>\n",
       "    </tr>\n",
       "    <tr>\n",
       "      <th>58</th>\n",
       "      <td>False</td>\n",
       "      <td>False</td>\n",
       "      <td>False</td>\n",
       "      <td>False</td>\n",
       "      <td>False</td>\n",
       "      <td>False</td>\n",
       "    </tr>\n",
       "    <tr>\n",
       "      <th>59</th>\n",
       "      <td>False</td>\n",
       "      <td>False</td>\n",
       "      <td>False</td>\n",
       "      <td>False</td>\n",
       "      <td>False</td>\n",
       "      <td>False</td>\n",
       "    </tr>\n",
       "    <tr>\n",
       "      <th>60</th>\n",
       "      <td>True</td>\n",
       "      <td>True</td>\n",
       "      <td>True</td>\n",
       "      <td>True</td>\n",
       "      <td>True</td>\n",
       "      <td>True</td>\n",
       "    </tr>\n",
       "  </tbody>\n",
       "</table>\n",
       "<p>61 rows × 6 columns</p>\n",
       "</div>"
      ],
      "text/plain": [
       "    Month/Year  New Price ($)  Used Price ($)  Inflation Rate (%)  \\\n",
       "0        False          False           False               False   \n",
       "1        False          False           False               False   \n",
       "2        False          False           False               False   \n",
       "3        False          False           False               False   \n",
       "4        False          False           False               False   \n",
       "..         ...            ...             ...                 ...   \n",
       "56       False          False           False               False   \n",
       "57       False          False           False               False   \n",
       "58       False          False           False               False   \n",
       "59       False          False           False               False   \n",
       "60        True           True            True                True   \n",
       "\n",
       "    Interest Rate (%)  Units Sold  \n",
       "0               False       False  \n",
       "1               False       False  \n",
       "2               False       False  \n",
       "3               False       False  \n",
       "4               False       False  \n",
       "..                ...         ...  \n",
       "56              False       False  \n",
       "57              False       False  \n",
       "58              False       False  \n",
       "59              False       False  \n",
       "60               True        True  \n",
       "\n",
       "[61 rows x 6 columns]"
      ]
     },
     "execution_count": 6,
     "metadata": {},
     "output_type": "execute_result"
    }
   ],
   "source": [
    "df.isnull()"
   ]
  },
  {
   "cell_type": "code",
   "execution_count": 7,
   "id": "b7dee7a5",
   "metadata": {
    "execution": {
     "iopub.execute_input": "2025-04-22T01:18:58.788180Z",
     "iopub.status.busy": "2025-04-22T01:18:58.787322Z",
     "iopub.status.idle": "2025-04-22T01:18:58.799694Z",
     "shell.execute_reply": "2025-04-22T01:18:58.798848Z"
    },
    "papermill": {
     "duration": 0.020916,
     "end_time": "2025-04-22T01:18:58.801387",
     "exception": false,
     "start_time": "2025-04-22T01:18:58.780471",
     "status": "completed"
    },
    "tags": []
   },
   "outputs": [
    {
     "data": {
      "text/html": [
       "<div>\n",
       "<style scoped>\n",
       "    .dataframe tbody tr th:only-of-type {\n",
       "        vertical-align: middle;\n",
       "    }\n",
       "\n",
       "    .dataframe tbody tr th {\n",
       "        vertical-align: top;\n",
       "    }\n",
       "\n",
       "    .dataframe thead th {\n",
       "        text-align: right;\n",
       "    }\n",
       "</style>\n",
       "<table border=\"1\" class=\"dataframe\">\n",
       "  <thead>\n",
       "    <tr style=\"text-align: right;\">\n",
       "      <th></th>\n",
       "      <th>Month/Year</th>\n",
       "      <th>New Price ($)</th>\n",
       "      <th>Used Price ($)</th>\n",
       "      <th>Inflation Rate (%)</th>\n",
       "      <th>Interest Rate (%)</th>\n",
       "      <th>Units Sold</th>\n",
       "    </tr>\n",
       "  </thead>\n",
       "  <tbody>\n",
       "    <tr>\n",
       "      <th>0</th>\n",
       "      <td>19-Jan</td>\n",
       "      <td>25,000</td>\n",
       "      <td>18,000</td>\n",
       "      <td>1.60%</td>\n",
       "      <td>2.40%</td>\n",
       "      <td>28,500</td>\n",
       "    </tr>\n",
       "    <tr>\n",
       "      <th>1</th>\n",
       "      <td>19-Feb</td>\n",
       "      <td>25,000</td>\n",
       "      <td>17,900</td>\n",
       "      <td>1.50%</td>\n",
       "      <td>2.40%</td>\n",
       "      <td>29,000</td>\n",
       "    </tr>\n",
       "    <tr>\n",
       "      <th>2</th>\n",
       "      <td>19-Mar</td>\n",
       "      <td>25,000</td>\n",
       "      <td>17,800</td>\n",
       "      <td>1.90%</td>\n",
       "      <td>2.40%</td>\n",
       "      <td>31,500</td>\n",
       "    </tr>\n",
       "    <tr>\n",
       "      <th>3</th>\n",
       "      <td>19-Apr</td>\n",
       "      <td>25,000</td>\n",
       "      <td>17,700</td>\n",
       "      <td>2.00%</td>\n",
       "      <td>2.40%</td>\n",
       "      <td>30,000</td>\n",
       "    </tr>\n",
       "    <tr>\n",
       "      <th>4</th>\n",
       "      <td>19-May</td>\n",
       "      <td>25,000</td>\n",
       "      <td>17,600</td>\n",
       "      <td>1.80%</td>\n",
       "      <td>2.40%</td>\n",
       "      <td>32,000</td>\n",
       "    </tr>\n",
       "  </tbody>\n",
       "</table>\n",
       "</div>"
      ],
      "text/plain": [
       "  Month/Year New Price ($) Used Price ($) Inflation Rate (%)  \\\n",
       "0     19-Jan        25,000         18,000              1.60%   \n",
       "1     19-Feb        25,000         17,900              1.50%   \n",
       "2     19-Mar        25,000         17,800              1.90%   \n",
       "3     19-Apr        25,000         17,700              2.00%   \n",
       "4     19-May        25,000         17,600              1.80%   \n",
       "\n",
       "  Interest Rate (%) Units Sold  \n",
       "0             2.40%     28,500  \n",
       "1             2.40%     29,000  \n",
       "2             2.40%     31,500  \n",
       "3             2.40%     30,000  \n",
       "4             2.40%     32,000  "
      ]
     },
     "execution_count": 7,
     "metadata": {},
     "output_type": "execute_result"
    }
   ],
   "source": [
    "df.head()"
   ]
  },
  {
   "cell_type": "code",
   "execution_count": 8,
   "id": "2da58a17",
   "metadata": {
    "execution": {
     "iopub.execute_input": "2025-04-22T01:18:58.819074Z",
     "iopub.status.busy": "2025-04-22T01:18:58.818764Z",
     "iopub.status.idle": "2025-04-22T01:18:58.827544Z",
     "shell.execute_reply": "2025-04-22T01:18:58.826671Z"
    },
    "papermill": {
     "duration": 0.017361,
     "end_time": "2025-04-22T01:18:58.828998",
     "exception": false,
     "start_time": "2025-04-22T01:18:58.811637",
     "status": "completed"
    },
    "tags": []
   },
   "outputs": [
    {
     "data": {
      "text/plain": [
       "Month/Year            1\n",
       "New Price ($)         1\n",
       "Used Price ($)        1\n",
       "Inflation Rate (%)    1\n",
       "Interest Rate (%)     1\n",
       "Units Sold            1\n",
       "dtype: int64"
      ]
     },
     "execution_count": 8,
     "metadata": {},
     "output_type": "execute_result"
    }
   ],
   "source": [
    "df.isnull().sum()\n"
   ]
  },
  {
   "cell_type": "code",
   "execution_count": 9,
   "id": "cd8b2cc3",
   "metadata": {
    "execution": {
     "iopub.execute_input": "2025-04-22T01:18:58.848288Z",
     "iopub.status.busy": "2025-04-22T01:18:58.847908Z",
     "iopub.status.idle": "2025-04-22T01:18:58.852894Z",
     "shell.execute_reply": "2025-04-22T01:18:58.851694Z"
    },
    "papermill": {
     "duration": 0.017741,
     "end_time": "2025-04-22T01:18:58.854607",
     "exception": false,
     "start_time": "2025-04-22T01:18:58.836866",
     "status": "completed"
    },
    "tags": []
   },
   "outputs": [],
   "source": [
    "#Remove one row - the 60th index containing all the null values \n",
    "#V10 - let's use fillna with the mean to input value instead of removing this row. \n",
    "# df.shape\n",
    "# try:\n",
    "#     df = df.drop(index=df.index[60])\n",
    "#     print(\"size is now: \", df.shape)\n",
    "# except:\n",
    "#     print(\"This has already been removed\")\n",
    "#     print(\"size remains as: \", df.shape)"
   ]
  },
  {
   "cell_type": "code",
   "execution_count": 10,
   "id": "ccaac74f",
   "metadata": {
    "execution": {
     "iopub.execute_input": "2025-04-22T01:18:58.875464Z",
     "iopub.status.busy": "2025-04-22T01:18:58.874975Z",
     "iopub.status.idle": "2025-04-22T01:18:58.887699Z",
     "shell.execute_reply": "2025-04-22T01:18:58.886579Z"
    },
    "papermill": {
     "duration": 0.025739,
     "end_time": "2025-04-22T01:18:58.889471",
     "exception": false,
     "start_time": "2025-04-22T01:18:58.863732",
     "status": "completed"
    },
    "tags": []
   },
   "outputs": [
    {
     "data": {
      "text/plain": [
       "Month/Year            1\n",
       "New Price ($)         1\n",
       "Used Price ($)        1\n",
       "Inflation Rate (%)    1\n",
       "Interest Rate (%)     1\n",
       "Units Sold            1\n",
       "dtype: int64"
      ]
     },
     "execution_count": 10,
     "metadata": {},
     "output_type": "execute_result"
    }
   ],
   "source": [
    "#Check that the null values are removed\n",
    "df.isnull().sum()"
   ]
  },
  {
   "cell_type": "code",
   "execution_count": 11,
   "id": "05898b2d",
   "metadata": {
    "execution": {
     "iopub.execute_input": "2025-04-22T01:18:58.910017Z",
     "iopub.status.busy": "2025-04-22T01:18:58.909731Z",
     "iopub.status.idle": "2025-04-22T01:18:58.922468Z",
     "shell.execute_reply": "2025-04-22T01:18:58.921614Z"
    },
    "papermill": {
     "duration": 0.026282,
     "end_time": "2025-04-22T01:18:58.924465",
     "exception": false,
     "start_time": "2025-04-22T01:18:58.898183",
     "status": "completed"
    },
    "tags": []
   },
   "outputs": [
    {
     "data": {
      "text/html": [
       "<div>\n",
       "<style scoped>\n",
       "    .dataframe tbody tr th:only-of-type {\n",
       "        vertical-align: middle;\n",
       "    }\n",
       "\n",
       "    .dataframe tbody tr th {\n",
       "        vertical-align: top;\n",
       "    }\n",
       "\n",
       "    .dataframe thead th {\n",
       "        text-align: right;\n",
       "    }\n",
       "</style>\n",
       "<table border=\"1\" class=\"dataframe\">\n",
       "  <thead>\n",
       "    <tr style=\"text-align: right;\">\n",
       "      <th></th>\n",
       "      <th>Month/Year</th>\n",
       "      <th>New Price ($)</th>\n",
       "      <th>Used Price ($)</th>\n",
       "      <th>Inflation Rate (%)</th>\n",
       "      <th>Interest Rate (%)</th>\n",
       "      <th>Units Sold</th>\n",
       "    </tr>\n",
       "  </thead>\n",
       "  <tbody>\n",
       "    <tr>\n",
       "      <th>0</th>\n",
       "      <td>19-Jan</td>\n",
       "      <td>25,000</td>\n",
       "      <td>18,000</td>\n",
       "      <td>1.60%</td>\n",
       "      <td>2.40%</td>\n",
       "      <td>28,500</td>\n",
       "    </tr>\n",
       "    <tr>\n",
       "      <th>1</th>\n",
       "      <td>19-Feb</td>\n",
       "      <td>25,000</td>\n",
       "      <td>17,900</td>\n",
       "      <td>1.50%</td>\n",
       "      <td>2.40%</td>\n",
       "      <td>29,000</td>\n",
       "    </tr>\n",
       "    <tr>\n",
       "      <th>2</th>\n",
       "      <td>19-Mar</td>\n",
       "      <td>25,000</td>\n",
       "      <td>17,800</td>\n",
       "      <td>1.90%</td>\n",
       "      <td>2.40%</td>\n",
       "      <td>31,500</td>\n",
       "    </tr>\n",
       "    <tr>\n",
       "      <th>3</th>\n",
       "      <td>19-Apr</td>\n",
       "      <td>25,000</td>\n",
       "      <td>17,700</td>\n",
       "      <td>2.00%</td>\n",
       "      <td>2.40%</td>\n",
       "      <td>30,000</td>\n",
       "    </tr>\n",
       "    <tr>\n",
       "      <th>4</th>\n",
       "      <td>19-May</td>\n",
       "      <td>25,000</td>\n",
       "      <td>17,600</td>\n",
       "      <td>1.80%</td>\n",
       "      <td>2.40%</td>\n",
       "      <td>32,000</td>\n",
       "    </tr>\n",
       "  </tbody>\n",
       "</table>\n",
       "</div>"
      ],
      "text/plain": [
       "  Month/Year New Price ($) Used Price ($) Inflation Rate (%)  \\\n",
       "0     19-Jan        25,000         18,000              1.60%   \n",
       "1     19-Feb        25,000         17,900              1.50%   \n",
       "2     19-Mar        25,000         17,800              1.90%   \n",
       "3     19-Apr        25,000         17,700              2.00%   \n",
       "4     19-May        25,000         17,600              1.80%   \n",
       "\n",
       "  Interest Rate (%) Units Sold  \n",
       "0             2.40%     28,500  \n",
       "1             2.40%     29,000  \n",
       "2             2.40%     31,500  \n",
       "3             2.40%     30,000  \n",
       "4             2.40%     32,000  "
      ]
     },
     "execution_count": 11,
     "metadata": {},
     "output_type": "execute_result"
    }
   ],
   "source": [
    "# df['Month/Year']\n",
    "df.head()"
   ]
  },
  {
   "cell_type": "code",
   "execution_count": 12,
   "id": "038d5f12",
   "metadata": {
    "execution": {
     "iopub.execute_input": "2025-04-22T01:18:58.948005Z",
     "iopub.status.busy": "2025-04-22T01:18:58.947579Z",
     "iopub.status.idle": "2025-04-22T01:18:58.969094Z",
     "shell.execute_reply": "2025-04-22T01:18:58.968247Z"
    },
    "papermill": {
     "duration": 0.034937,
     "end_time": "2025-04-22T01:18:58.970677",
     "exception": false,
     "start_time": "2025-04-22T01:18:58.935740",
     "status": "completed"
    },
    "tags": []
   },
   "outputs": [
    {
     "data": {
      "text/html": [
       "<div>\n",
       "<style scoped>\n",
       "    .dataframe tbody tr th:only-of-type {\n",
       "        vertical-align: middle;\n",
       "    }\n",
       "\n",
       "    .dataframe tbody tr th {\n",
       "        vertical-align: top;\n",
       "    }\n",
       "\n",
       "    .dataframe thead th {\n",
       "        text-align: right;\n",
       "    }\n",
       "</style>\n",
       "<table border=\"1\" class=\"dataframe\">\n",
       "  <thead>\n",
       "    <tr style=\"text-align: right;\">\n",
       "      <th></th>\n",
       "      <th>Year/Month/Day</th>\n",
       "      <th>New Price ($)</th>\n",
       "      <th>Used Price ($)</th>\n",
       "      <th>Inflation Rate (%)</th>\n",
       "      <th>Interest Rate (%)</th>\n",
       "      <th>Units Sold</th>\n",
       "    </tr>\n",
       "  </thead>\n",
       "  <tbody>\n",
       "    <tr>\n",
       "      <th>0</th>\n",
       "      <td>2019-01-01</td>\n",
       "      <td>25,000</td>\n",
       "      <td>18,000</td>\n",
       "      <td>1.60%</td>\n",
       "      <td>2.40%</td>\n",
       "      <td>28,500</td>\n",
       "    </tr>\n",
       "    <tr>\n",
       "      <th>1</th>\n",
       "      <td>2019-02-01</td>\n",
       "      <td>25,000</td>\n",
       "      <td>17,900</td>\n",
       "      <td>1.50%</td>\n",
       "      <td>2.40%</td>\n",
       "      <td>29,000</td>\n",
       "    </tr>\n",
       "    <tr>\n",
       "      <th>2</th>\n",
       "      <td>2019-03-01</td>\n",
       "      <td>25,000</td>\n",
       "      <td>17,800</td>\n",
       "      <td>1.90%</td>\n",
       "      <td>2.40%</td>\n",
       "      <td>31,500</td>\n",
       "    </tr>\n",
       "    <tr>\n",
       "      <th>3</th>\n",
       "      <td>2019-04-01</td>\n",
       "      <td>25,000</td>\n",
       "      <td>17,700</td>\n",
       "      <td>2.00%</td>\n",
       "      <td>2.40%</td>\n",
       "      <td>30,000</td>\n",
       "    </tr>\n",
       "    <tr>\n",
       "      <th>4</th>\n",
       "      <td>2019-05-01</td>\n",
       "      <td>25,000</td>\n",
       "      <td>17,600</td>\n",
       "      <td>1.80%</td>\n",
       "      <td>2.40%</td>\n",
       "      <td>32,000</td>\n",
       "    </tr>\n",
       "  </tbody>\n",
       "</table>\n",
       "</div>"
      ],
      "text/plain": [
       "  Year/Month/Day New Price ($) Used Price ($) Inflation Rate (%)  \\\n",
       "0     2019-01-01        25,000         18,000              1.60%   \n",
       "1     2019-02-01        25,000         17,900              1.50%   \n",
       "2     2019-03-01        25,000         17,800              1.90%   \n",
       "3     2019-04-01        25,000         17,700              2.00%   \n",
       "4     2019-05-01        25,000         17,600              1.80%   \n",
       "\n",
       "  Interest Rate (%) Units Sold  \n",
       "0             2.40%     28,500  \n",
       "1             2.40%     29,000  \n",
       "2             2.40%     31,500  \n",
       "3             2.40%     30,000  \n",
       "4             2.40%     32,000  "
      ]
     },
     "execution_count": 12,
     "metadata": {},
     "output_type": "execute_result"
    }
   ],
   "source": [
    "#Transform month/year columns into datatime\n",
    "#Separate Month/Year as diff columns and into datetimes. The current format is in YEAR/MONTH. SO i have to change\n",
    "# df['Month/Year'] = df['Month/Year'].transform\n",
    "# df[['Year','Month']] = df['Month/Year'].str.split('-',expand=True)\n",
    "# df['Year'] = df['Year'].apply(lambda x: '20' + x)\n",
    "# df['Year/Month'] = df['Year'] + \" \" + df['Month']\n",
    "\n",
    "df['Year/Month/Day'] = pd.to_datetime(df['Month/Year'], format='%y-%b')\n",
    "df.drop('Month/Year', axis=1, inplace=True)\n",
    "\n",
    "#Set date column as first position\n",
    "first_column = df.pop('Year/Month/Day')\n",
    "# df.drop('Year/Month',axis=1, inplace=True)\n",
    "df.insert(0, 'Year/Month/Day', first_column)\n",
    "\n",
    "df.head()\n",
    "# df.dtypes"
   ]
  },
  {
   "cell_type": "code",
   "execution_count": 13,
   "id": "de70c67a",
   "metadata": {
    "execution": {
     "iopub.execute_input": "2025-04-22T01:18:58.985329Z",
     "iopub.status.busy": "2025-04-22T01:18:58.984957Z",
     "iopub.status.idle": "2025-04-22T01:18:58.989639Z",
     "shell.execute_reply": "2025-04-22T01:18:58.988792Z"
    },
    "papermill": {
     "duration": 0.013967,
     "end_time": "2025-04-22T01:18:58.991246",
     "exception": false,
     "start_time": "2025-04-22T01:18:58.977279",
     "status": "completed"
    },
    "tags": []
   },
   "outputs": [],
   "source": [
    "# try:\n",
    "#     df.drop('Year/Month', axis=1, inplace=True)\n",
    "#     df.drop('Month/Year', axis=1, inplace=True)\n",
    "#     print(\"Completed\")\n",
    "# except:\n",
    "#     print(\"This column has already been dropped\")\n",
    "# df.head()"
   ]
  },
  {
   "cell_type": "code",
   "execution_count": 14,
   "id": "e1b1e1bb",
   "metadata": {
    "execution": {
     "iopub.execute_input": "2025-04-22T01:18:59.006821Z",
     "iopub.status.busy": "2025-04-22T01:18:59.005929Z",
     "iopub.status.idle": "2025-04-22T01:18:59.018860Z",
     "shell.execute_reply": "2025-04-22T01:18:59.017988Z"
    },
    "papermill": {
     "duration": 0.02244,
     "end_time": "2025-04-22T01:18:59.020296",
     "exception": false,
     "start_time": "2025-04-22T01:18:58.997856",
     "status": "completed"
    },
    "tags": []
   },
   "outputs": [
    {
     "data": {
      "text/html": [
       "<div>\n",
       "<style scoped>\n",
       "    .dataframe tbody tr th:only-of-type {\n",
       "        vertical-align: middle;\n",
       "    }\n",
       "\n",
       "    .dataframe tbody tr th {\n",
       "        vertical-align: top;\n",
       "    }\n",
       "\n",
       "    .dataframe thead th {\n",
       "        text-align: right;\n",
       "    }\n",
       "</style>\n",
       "<table border=\"1\" class=\"dataframe\">\n",
       "  <thead>\n",
       "    <tr style=\"text-align: right;\">\n",
       "      <th></th>\n",
       "      <th>Year/Month/Day</th>\n",
       "      <th>New Price ($)</th>\n",
       "      <th>Used Price ($)</th>\n",
       "      <th>Inflation Rate (%)</th>\n",
       "      <th>Interest Rate (%)</th>\n",
       "      <th>Units Sold</th>\n",
       "    </tr>\n",
       "  </thead>\n",
       "  <tbody>\n",
       "    <tr>\n",
       "      <th>0</th>\n",
       "      <td>2019-01-01</td>\n",
       "      <td>25,000</td>\n",
       "      <td>18,000</td>\n",
       "      <td>1.60%</td>\n",
       "      <td>2.40%</td>\n",
       "      <td>28,500</td>\n",
       "    </tr>\n",
       "    <tr>\n",
       "      <th>1</th>\n",
       "      <td>2019-02-01</td>\n",
       "      <td>25,000</td>\n",
       "      <td>17,900</td>\n",
       "      <td>1.50%</td>\n",
       "      <td>2.40%</td>\n",
       "      <td>29,000</td>\n",
       "    </tr>\n",
       "    <tr>\n",
       "      <th>2</th>\n",
       "      <td>2019-03-01</td>\n",
       "      <td>25,000</td>\n",
       "      <td>17,800</td>\n",
       "      <td>1.90%</td>\n",
       "      <td>2.40%</td>\n",
       "      <td>31,500</td>\n",
       "    </tr>\n",
       "    <tr>\n",
       "      <th>3</th>\n",
       "      <td>2019-04-01</td>\n",
       "      <td>25,000</td>\n",
       "      <td>17,700</td>\n",
       "      <td>2.00%</td>\n",
       "      <td>2.40%</td>\n",
       "      <td>30,000</td>\n",
       "    </tr>\n",
       "    <tr>\n",
       "      <th>4</th>\n",
       "      <td>2019-05-01</td>\n",
       "      <td>25,000</td>\n",
       "      <td>17,600</td>\n",
       "      <td>1.80%</td>\n",
       "      <td>2.40%</td>\n",
       "      <td>32,000</td>\n",
       "    </tr>\n",
       "  </tbody>\n",
       "</table>\n",
       "</div>"
      ],
      "text/plain": [
       "  Year/Month/Day New Price ($) Used Price ($) Inflation Rate (%)  \\\n",
       "0     2019-01-01        25,000         18,000              1.60%   \n",
       "1     2019-02-01        25,000         17,900              1.50%   \n",
       "2     2019-03-01        25,000         17,800              1.90%   \n",
       "3     2019-04-01        25,000         17,700              2.00%   \n",
       "4     2019-05-01        25,000         17,600              1.80%   \n",
       "\n",
       "  Interest Rate (%) Units Sold  \n",
       "0             2.40%     28,500  \n",
       "1             2.40%     29,000  \n",
       "2             2.40%     31,500  \n",
       "3             2.40%     30,000  \n",
       "4             2.40%     32,000  "
      ]
     },
     "execution_count": 14,
     "metadata": {},
     "output_type": "execute_result"
    }
   ],
   "source": [
    "# df['Month'] = df['Year/Month/Day']\n",
    "# df['Month'] = df['Year/Month/Day'].dt.month\n",
    "# df['Year'] = df['Year/Month/Day'].dt.year\n",
    "# df.set_index('Year/Month/Day')\n",
    "\n",
    "\n",
    "\n",
    "# df.drop('Year', axis=1, inplace=True)\n",
    "# df.drop('Month', axis=1, inplace=True)\n",
    "\n",
    "\n",
    "df.head()"
   ]
  },
  {
   "cell_type": "code",
   "execution_count": 15,
   "id": "10540360",
   "metadata": {
    "execution": {
     "iopub.execute_input": "2025-04-22T01:18:59.046018Z",
     "iopub.status.busy": "2025-04-22T01:18:59.045322Z",
     "iopub.status.idle": "2025-04-22T01:18:59.052607Z",
     "shell.execute_reply": "2025-04-22T01:18:59.051141Z"
    },
    "papermill": {
     "duration": 0.026184,
     "end_time": "2025-04-22T01:18:59.054759",
     "exception": false,
     "start_time": "2025-04-22T01:18:59.028575",
     "status": "completed"
    },
    "tags": []
   },
   "outputs": [],
   "source": [
    "#Correct the data types\n",
    "#New Price & Used price remove commas and convert to numeric\n",
    "#Inflation Rate & Interest rate convert to float\n",
    "#Units sold remove comma and  convert to numeric \n",
    "try:\n",
    "    df['New Price ($)'] = df['New Price ($)'].str.replace(',', '')\n",
    "except:\n",
    "    print(\"This has already been changed\")\n"
   ]
  },
  {
   "cell_type": "code",
   "execution_count": 16,
   "id": "8ac4026c",
   "metadata": {
    "execution": {
     "iopub.execute_input": "2025-04-22T01:18:59.086549Z",
     "iopub.status.busy": "2025-04-22T01:18:59.085473Z",
     "iopub.status.idle": "2025-04-22T01:18:59.102435Z",
     "shell.execute_reply": "2025-04-22T01:18:59.101619Z"
    },
    "papermill": {
     "duration": 0.037307,
     "end_time": "2025-04-22T01:18:59.104285",
     "exception": false,
     "start_time": "2025-04-22T01:18:59.066978",
     "status": "completed"
    },
    "tags": []
   },
   "outputs": [
    {
     "data": {
      "text/html": [
       "<div>\n",
       "<style scoped>\n",
       "    .dataframe tbody tr th:only-of-type {\n",
       "        vertical-align: middle;\n",
       "    }\n",
       "\n",
       "    .dataframe tbody tr th {\n",
       "        vertical-align: top;\n",
       "    }\n",
       "\n",
       "    .dataframe thead th {\n",
       "        text-align: right;\n",
       "    }\n",
       "</style>\n",
       "<table border=\"1\" class=\"dataframe\">\n",
       "  <thead>\n",
       "    <tr style=\"text-align: right;\">\n",
       "      <th></th>\n",
       "      <th>Year/Month/Day</th>\n",
       "      <th>New Price ($)</th>\n",
       "      <th>Used Price ($)</th>\n",
       "      <th>Inflation Rate (%)</th>\n",
       "      <th>Interest Rate (%)</th>\n",
       "      <th>Units Sold</th>\n",
       "    </tr>\n",
       "  </thead>\n",
       "  <tbody>\n",
       "    <tr>\n",
       "      <th>0</th>\n",
       "      <td>2019-01-01</td>\n",
       "      <td>25000.0</td>\n",
       "      <td>18,000</td>\n",
       "      <td>1.60%</td>\n",
       "      <td>2.40%</td>\n",
       "      <td>28,500</td>\n",
       "    </tr>\n",
       "    <tr>\n",
       "      <th>1</th>\n",
       "      <td>2019-02-01</td>\n",
       "      <td>25000.0</td>\n",
       "      <td>17,900</td>\n",
       "      <td>1.50%</td>\n",
       "      <td>2.40%</td>\n",
       "      <td>29,000</td>\n",
       "    </tr>\n",
       "    <tr>\n",
       "      <th>2</th>\n",
       "      <td>2019-03-01</td>\n",
       "      <td>25000.0</td>\n",
       "      <td>17,800</td>\n",
       "      <td>1.90%</td>\n",
       "      <td>2.40%</td>\n",
       "      <td>31,500</td>\n",
       "    </tr>\n",
       "    <tr>\n",
       "      <th>3</th>\n",
       "      <td>2019-04-01</td>\n",
       "      <td>25000.0</td>\n",
       "      <td>17,700</td>\n",
       "      <td>2.00%</td>\n",
       "      <td>2.40%</td>\n",
       "      <td>30,000</td>\n",
       "    </tr>\n",
       "    <tr>\n",
       "      <th>4</th>\n",
       "      <td>2019-05-01</td>\n",
       "      <td>25000.0</td>\n",
       "      <td>17,600</td>\n",
       "      <td>1.80%</td>\n",
       "      <td>2.40%</td>\n",
       "      <td>32,000</td>\n",
       "    </tr>\n",
       "  </tbody>\n",
       "</table>\n",
       "</div>"
      ],
      "text/plain": [
       "  Year/Month/Day  New Price ($) Used Price ($) Inflation Rate (%)  \\\n",
       "0     2019-01-01        25000.0         18,000              1.60%   \n",
       "1     2019-02-01        25000.0         17,900              1.50%   \n",
       "2     2019-03-01        25000.0         17,800              1.90%   \n",
       "3     2019-04-01        25000.0         17,700              2.00%   \n",
       "4     2019-05-01        25000.0         17,600              1.80%   \n",
       "\n",
       "  Interest Rate (%) Units Sold  \n",
       "0             2.40%     28,500  \n",
       "1             2.40%     29,000  \n",
       "2             2.40%     31,500  \n",
       "3             2.40%     30,000  \n",
       "4             2.40%     32,000  "
      ]
     },
     "execution_count": 16,
     "metadata": {},
     "output_type": "execute_result"
    }
   ],
   "source": [
    "df['New Price ($)'] = pd.to_numeric(df['New Price ($)'])\n",
    "df.head()"
   ]
  },
  {
   "cell_type": "code",
   "execution_count": 17,
   "id": "36dc1774",
   "metadata": {
    "execution": {
     "iopub.execute_input": "2025-04-22T01:18:59.130018Z",
     "iopub.status.busy": "2025-04-22T01:18:59.129373Z",
     "iopub.status.idle": "2025-04-22T01:18:59.137601Z",
     "shell.execute_reply": "2025-04-22T01:18:59.136675Z"
    },
    "papermill": {
     "duration": 0.021231,
     "end_time": "2025-04-22T01:18:59.139234",
     "exception": false,
     "start_time": "2025-04-22T01:18:59.118003",
     "status": "completed"
    },
    "tags": []
   },
   "outputs": [],
   "source": [
    "df['Used Price ($)'] = pd.to_numeric(df['Used Price ($)'].str.replace(',',''))\n",
    "df['Units Sold'] = pd.to_numeric(df['Units Sold'].str.replace(',',''))"
   ]
  },
  {
   "cell_type": "code",
   "execution_count": 18,
   "id": "57ca991d",
   "metadata": {
    "execution": {
     "iopub.execute_input": "2025-04-22T01:18:59.167268Z",
     "iopub.status.busy": "2025-04-22T01:18:59.165911Z",
     "iopub.status.idle": "2025-04-22T01:18:59.186295Z",
     "shell.execute_reply": "2025-04-22T01:18:59.184772Z"
    },
    "papermill": {
     "duration": 0.038794,
     "end_time": "2025-04-22T01:18:59.188347",
     "exception": false,
     "start_time": "2025-04-22T01:18:59.149553",
     "status": "completed"
    },
    "tags": []
   },
   "outputs": [
    {
     "data": {
      "text/html": [
       "<div>\n",
       "<style scoped>\n",
       "    .dataframe tbody tr th:only-of-type {\n",
       "        vertical-align: middle;\n",
       "    }\n",
       "\n",
       "    .dataframe tbody tr th {\n",
       "        vertical-align: top;\n",
       "    }\n",
       "\n",
       "    .dataframe thead th {\n",
       "        text-align: right;\n",
       "    }\n",
       "</style>\n",
       "<table border=\"1\" class=\"dataframe\">\n",
       "  <thead>\n",
       "    <tr style=\"text-align: right;\">\n",
       "      <th></th>\n",
       "      <th>Year/Month/Day</th>\n",
       "      <th>New Price ($)</th>\n",
       "      <th>Used Price ($)</th>\n",
       "      <th>Inflation Rate (%)</th>\n",
       "      <th>Interest Rate (%)</th>\n",
       "      <th>Units Sold</th>\n",
       "    </tr>\n",
       "  </thead>\n",
       "  <tbody>\n",
       "    <tr>\n",
       "      <th>0</th>\n",
       "      <td>2019-01-01</td>\n",
       "      <td>25000.0</td>\n",
       "      <td>18000.0</td>\n",
       "      <td>1.6</td>\n",
       "      <td>2.4</td>\n",
       "      <td>28500.0</td>\n",
       "    </tr>\n",
       "    <tr>\n",
       "      <th>1</th>\n",
       "      <td>2019-02-01</td>\n",
       "      <td>25000.0</td>\n",
       "      <td>17900.0</td>\n",
       "      <td>1.5</td>\n",
       "      <td>2.4</td>\n",
       "      <td>29000.0</td>\n",
       "    </tr>\n",
       "    <tr>\n",
       "      <th>2</th>\n",
       "      <td>2019-03-01</td>\n",
       "      <td>25000.0</td>\n",
       "      <td>17800.0</td>\n",
       "      <td>1.9</td>\n",
       "      <td>2.4</td>\n",
       "      <td>31500.0</td>\n",
       "    </tr>\n",
       "    <tr>\n",
       "      <th>3</th>\n",
       "      <td>2019-04-01</td>\n",
       "      <td>25000.0</td>\n",
       "      <td>17700.0</td>\n",
       "      <td>2.0</td>\n",
       "      <td>2.4</td>\n",
       "      <td>30000.0</td>\n",
       "    </tr>\n",
       "    <tr>\n",
       "      <th>4</th>\n",
       "      <td>2019-05-01</td>\n",
       "      <td>25000.0</td>\n",
       "      <td>17600.0</td>\n",
       "      <td>1.8</td>\n",
       "      <td>2.4</td>\n",
       "      <td>32000.0</td>\n",
       "    </tr>\n",
       "  </tbody>\n",
       "</table>\n",
       "</div>"
      ],
      "text/plain": [
       "  Year/Month/Day  New Price ($)  Used Price ($)  Inflation Rate (%)  \\\n",
       "0     2019-01-01        25000.0         18000.0                 1.6   \n",
       "1     2019-02-01        25000.0         17900.0                 1.5   \n",
       "2     2019-03-01        25000.0         17800.0                 1.9   \n",
       "3     2019-04-01        25000.0         17700.0                 2.0   \n",
       "4     2019-05-01        25000.0         17600.0                 1.8   \n",
       "\n",
       "   Interest Rate (%)  Units Sold  \n",
       "0                2.4     28500.0  \n",
       "1                2.4     29000.0  \n",
       "2                2.4     31500.0  \n",
       "3                2.4     30000.0  \n",
       "4                2.4     32000.0  "
      ]
     },
     "execution_count": 18,
     "metadata": {},
     "output_type": "execute_result"
    }
   ],
   "source": [
    "df['Inflation Rate (%)'] = pd.to_numeric(df['Inflation Rate (%)'].str.replace('%',''))\n",
    "df['Interest Rate (%)'] = pd.to_numeric(df['Interest Rate (%)'].str.replace('%',''))\n",
    "df.head()"
   ]
  },
  {
   "cell_type": "code",
   "execution_count": 19,
   "id": "14d261b6",
   "metadata": {
    "execution": {
     "iopub.execute_input": "2025-04-22T01:18:59.216016Z",
     "iopub.status.busy": "2025-04-22T01:18:59.215730Z",
     "iopub.status.idle": "2025-04-22T01:18:59.236578Z",
     "shell.execute_reply": "2025-04-22T01:18:59.235553Z"
    },
    "papermill": {
     "duration": 0.035851,
     "end_time": "2025-04-22T01:18:59.238220",
     "exception": false,
     "start_time": "2025-04-22T01:18:59.202369",
     "status": "completed"
    },
    "tags": []
   },
   "outputs": [
    {
     "name": "stdout",
     "output_type": "stream",
     "text": [
      "<class 'pandas.core.frame.DataFrame'>\n",
      "RangeIndex: 61 entries, 0 to 60\n",
      "Data columns (total 6 columns):\n",
      " #   Column              Non-Null Count  Dtype         \n",
      "---  ------              --------------  -----         \n",
      " 0   Year/Month/Day      60 non-null     datetime64[ns]\n",
      " 1   New Price ($)       60 non-null     float64       \n",
      " 2   Used Price ($)      60 non-null     float64       \n",
      " 3   Inflation Rate (%)  60 non-null     float64       \n",
      " 4   Interest Rate (%)   60 non-null     float64       \n",
      " 5   Units Sold          60 non-null     float64       \n",
      "dtypes: datetime64[ns](1), float64(5)\n",
      "memory usage: 3.0 KB\n"
     ]
    }
   ],
   "source": [
    "df.info()"
   ]
  },
  {
   "cell_type": "code",
   "execution_count": 20,
   "id": "64d66977",
   "metadata": {
    "execution": {
     "iopub.execute_input": "2025-04-22T01:18:59.265681Z",
     "iopub.status.busy": "2025-04-22T01:18:59.265328Z",
     "iopub.status.idle": "2025-04-22T01:18:59.272352Z",
     "shell.execute_reply": "2025-04-22T01:18:59.271537Z"
    },
    "papermill": {
     "duration": 0.022465,
     "end_time": "2025-04-22T01:18:59.273845",
     "exception": false,
     "start_time": "2025-04-22T01:18:59.251380",
     "status": "completed"
    },
    "tags": []
   },
   "outputs": [
    {
     "data": {
      "text/plain": [
       "Year/Month/Day        1\n",
       "New Price ($)         1\n",
       "Used Price ($)        1\n",
       "Inflation Rate (%)    1\n",
       "Interest Rate (%)     1\n",
       "Units Sold            1\n",
       "dtype: int64"
      ]
     },
     "execution_count": 20,
     "metadata": {},
     "output_type": "execute_result"
    }
   ],
   "source": [
    "df.isnull().sum()"
   ]
  },
  {
   "cell_type": "markdown",
   "id": "f56de38f",
   "metadata": {
    "papermill": {
     "duration": 0.007412,
     "end_time": "2025-04-22T01:18:59.288610",
     "exception": false,
     "start_time": "2025-04-22T01:18:59.281198",
     "status": "completed"
    },
    "tags": []
   },
   "source": [
    "FILL empty rows/NaN with fillna using column mean\n",
    "* All of the columns for the last row is NaN which means we apply the same thing to all of them"
   ]
  },
  {
   "cell_type": "code",
   "execution_count": 21,
   "id": "46bb907a",
   "metadata": {
    "execution": {
     "iopub.execute_input": "2025-04-22T01:18:59.305168Z",
     "iopub.status.busy": "2025-04-22T01:18:59.304486Z",
     "iopub.status.idle": "2025-04-22T01:18:59.312022Z",
     "shell.execute_reply": "2025-04-22T01:18:59.311158Z"
    },
    "papermill": {
     "duration": 0.017095,
     "end_time": "2025-04-22T01:18:59.313421",
     "exception": false,
     "start_time": "2025-04-22T01:18:59.296326",
     "status": "completed"
    },
    "tags": []
   },
   "outputs": [],
   "source": [
    "df['New Price ($)'] = df['New Price ($)'].fillna(df['New Price ($)'].mean())\n",
    "df['Used Price ($)'] = df['Used Price ($)'].fillna(df['Used Price ($)'].mean())\n",
    "df['Inflation Rate (%)'] = df['Inflation Rate (%)'].fillna(df['Inflation Rate (%)'].mean())\n",
    "df['Interest Rate (%)'] = df['Interest Rate (%)'].fillna(df['Interest Rate (%)'].mean())\n",
    "df['Units Sold'] = df['Units Sold'].fillna(df['Units Sold'].mean())"
   ]
  },
  {
   "cell_type": "code",
   "execution_count": 22,
   "id": "ce704d4b",
   "metadata": {
    "execution": {
     "iopub.execute_input": "2025-04-22T01:18:59.329357Z",
     "iopub.status.busy": "2025-04-22T01:18:59.329057Z",
     "iopub.status.idle": "2025-04-22T01:18:59.335323Z",
     "shell.execute_reply": "2025-04-22T01:18:59.334580Z"
    },
    "papermill": {
     "duration": 0.015689,
     "end_time": "2025-04-22T01:18:59.336742",
     "exception": false,
     "start_time": "2025-04-22T01:18:59.321053",
     "status": "completed"
    },
    "tags": []
   },
   "outputs": [],
   "source": [
    "df['Year'] = df['Year/Month/Day'].dt.year\n",
    "df['Month'] = df['Year/Month/Day'].dt.month\n",
    "\n"
   ]
  },
  {
   "cell_type": "code",
   "execution_count": 23,
   "id": "362fe0a2",
   "metadata": {
    "execution": {
     "iopub.execute_input": "2025-04-22T01:18:59.352482Z",
     "iopub.status.busy": "2025-04-22T01:18:59.352191Z",
     "iopub.status.idle": "2025-04-22T01:18:59.365137Z",
     "shell.execute_reply": "2025-04-22T01:18:59.364283Z"
    },
    "papermill": {
     "duration": 0.022301,
     "end_time": "2025-04-22T01:18:59.366587",
     "exception": false,
     "start_time": "2025-04-22T01:18:59.344286",
     "status": "completed"
    },
    "tags": []
   },
   "outputs": [
    {
     "data": {
      "text/html": [
       "<div>\n",
       "<style scoped>\n",
       "    .dataframe tbody tr th:only-of-type {\n",
       "        vertical-align: middle;\n",
       "    }\n",
       "\n",
       "    .dataframe tbody tr th {\n",
       "        vertical-align: top;\n",
       "    }\n",
       "\n",
       "    .dataframe thead th {\n",
       "        text-align: right;\n",
       "    }\n",
       "</style>\n",
       "<table border=\"1\" class=\"dataframe\">\n",
       "  <thead>\n",
       "    <tr style=\"text-align: right;\">\n",
       "      <th></th>\n",
       "      <th>Year/Month/Day</th>\n",
       "      <th>New Price ($)</th>\n",
       "      <th>Used Price ($)</th>\n",
       "      <th>Inflation Rate (%)</th>\n",
       "      <th>Interest Rate (%)</th>\n",
       "      <th>Units Sold</th>\n",
       "      <th>Year</th>\n",
       "      <th>Month</th>\n",
       "    </tr>\n",
       "  </thead>\n",
       "  <tbody>\n",
       "    <tr>\n",
       "      <th>0</th>\n",
       "      <td>2019-01-01</td>\n",
       "      <td>25000.0</td>\n",
       "      <td>18000.0</td>\n",
       "      <td>1.6</td>\n",
       "      <td>2.4</td>\n",
       "      <td>28500.0</td>\n",
       "      <td>2019.0</td>\n",
       "      <td>1.0</td>\n",
       "    </tr>\n",
       "    <tr>\n",
       "      <th>1</th>\n",
       "      <td>2019-02-01</td>\n",
       "      <td>25000.0</td>\n",
       "      <td>17900.0</td>\n",
       "      <td>1.5</td>\n",
       "      <td>2.4</td>\n",
       "      <td>29000.0</td>\n",
       "      <td>2019.0</td>\n",
       "      <td>2.0</td>\n",
       "    </tr>\n",
       "    <tr>\n",
       "      <th>2</th>\n",
       "      <td>2019-03-01</td>\n",
       "      <td>25000.0</td>\n",
       "      <td>17800.0</td>\n",
       "      <td>1.9</td>\n",
       "      <td>2.4</td>\n",
       "      <td>31500.0</td>\n",
       "      <td>2019.0</td>\n",
       "      <td>3.0</td>\n",
       "    </tr>\n",
       "    <tr>\n",
       "      <th>3</th>\n",
       "      <td>2019-04-01</td>\n",
       "      <td>25000.0</td>\n",
       "      <td>17700.0</td>\n",
       "      <td>2.0</td>\n",
       "      <td>2.4</td>\n",
       "      <td>30000.0</td>\n",
       "      <td>2019.0</td>\n",
       "      <td>4.0</td>\n",
       "    </tr>\n",
       "    <tr>\n",
       "      <th>4</th>\n",
       "      <td>2019-05-01</td>\n",
       "      <td>25000.0</td>\n",
       "      <td>17600.0</td>\n",
       "      <td>1.8</td>\n",
       "      <td>2.4</td>\n",
       "      <td>32000.0</td>\n",
       "      <td>2019.0</td>\n",
       "      <td>5.0</td>\n",
       "    </tr>\n",
       "  </tbody>\n",
       "</table>\n",
       "</div>"
      ],
      "text/plain": [
       "  Year/Month/Day  New Price ($)  Used Price ($)  Inflation Rate (%)  \\\n",
       "0     2019-01-01        25000.0         18000.0                 1.6   \n",
       "1     2019-02-01        25000.0         17900.0                 1.5   \n",
       "2     2019-03-01        25000.0         17800.0                 1.9   \n",
       "3     2019-04-01        25000.0         17700.0                 2.0   \n",
       "4     2019-05-01        25000.0         17600.0                 1.8   \n",
       "\n",
       "   Interest Rate (%)  Units Sold    Year  Month  \n",
       "0                2.4     28500.0  2019.0    1.0  \n",
       "1                2.4     29000.0  2019.0    2.0  \n",
       "2                2.4     31500.0  2019.0    3.0  \n",
       "3                2.4     30000.0  2019.0    4.0  \n",
       "4                2.4     32000.0  2019.0    5.0  "
      ]
     },
     "execution_count": 23,
     "metadata": {},
     "output_type": "execute_result"
    }
   ],
   "source": [
    "df.head()"
   ]
  },
  {
   "cell_type": "markdown",
   "id": "3b6d0eb7",
   "metadata": {
    "papermill": {
     "duration": 0.006958,
     "end_time": "2025-04-22T01:18:59.381220",
     "exception": false,
     "start_time": "2025-04-22T01:18:59.374262",
     "status": "completed"
    },
    "tags": []
   },
   "source": [
    "This dataset contains monthly records of automobile prices (new and used), macroeconomic indicators (inflation and interest rates), and units sold from January 2019 to December 2023. It can be used to explore the impact of economic variables on vehicle pricing and demand.\n",
    "\n",
    "Key Features:\n",
    "\n",
    "60 monthly data points\n",
    "\n",
    "Correlation-friendly layout for econometric or machine learning models\n",
    "\n",
    "Useful for forecasting, trend analysis, and policy simulation\n",
    "\n",
    "Relationships I can explore\n",
    "- New vs Used Prices\n",
    "\n",
    "- New Price vs Inflation Rate\n",
    "- New Price vs Interest Rate\n",
    "\n",
    "- Used price vs Inflation Rate\n",
    "\n",
    "- Used price vs interest rate\n",
    "\n",
    "- inflation rate vs interest rate/ year\n",
    "- inflation rate vs units sold\n",
    "- interest rate vs units sold"
   ]
  },
  {
   "cell_type": "markdown",
   "id": "f93783bb",
   "metadata": {
    "papermill": {
     "duration": 0.007098,
     "end_time": "2025-04-22T01:18:59.396710",
     "exception": false,
     "start_time": "2025-04-22T01:18:59.389612",
     "status": "completed"
    },
    "tags": []
   },
   "source": [
    "# Exploratory Data Analysis"
   ]
  },
  {
   "cell_type": "code",
   "execution_count": 24,
   "id": "c605f6b3",
   "metadata": {
    "execution": {
     "iopub.execute_input": "2025-04-22T01:18:59.413304Z",
     "iopub.status.busy": "2025-04-22T01:18:59.412449Z",
     "iopub.status.idle": "2025-04-22T01:19:01.366432Z",
     "shell.execute_reply": "2025-04-22T01:19:01.365552Z"
    },
    "papermill": {
     "duration": 1.963931,
     "end_time": "2025-04-22T01:19:01.368242",
     "exception": false,
     "start_time": "2025-04-22T01:18:59.404311",
     "status": "completed"
    },
    "tags": []
   },
   "outputs": [],
   "source": [
    "import seaborn as sns\n",
    "import matplotlib.pyplot as plt"
   ]
  },
  {
   "cell_type": "code",
   "execution_count": 25,
   "id": "860469d5",
   "metadata": {
    "execution": {
     "iopub.execute_input": "2025-04-22T01:19:01.450193Z",
     "iopub.status.busy": "2025-04-22T01:19:01.449759Z",
     "iopub.status.idle": "2025-04-22T01:19:01.933499Z",
     "shell.execute_reply": "2025-04-22T01:19:01.932600Z"
    },
    "papermill": {
     "duration": 0.494017,
     "end_time": "2025-04-22T01:19:01.935441",
     "exception": false,
     "start_time": "2025-04-22T01:19:01.441424",
     "status": "completed"
    },
    "tags": []
   },
   "outputs": [
    {
     "name": "stderr",
     "output_type": "stream",
     "text": [
      "/usr/local/lib/python3.11/dist-packages/seaborn/_oldcore.py:1119: FutureWarning: use_inf_as_na option is deprecated and will be removed in a future version. Convert inf values to NaN before operating instead.\n",
      "  with pd.option_context('mode.use_inf_as_na', True):\n",
      "/usr/local/lib/python3.11/dist-packages/seaborn/_oldcore.py:1119: FutureWarning: use_inf_as_na option is deprecated and will be removed in a future version. Convert inf values to NaN before operating instead.\n",
      "  with pd.option_context('mode.use_inf_as_na', True):\n"
     ]
    },
    {
     "data": {
      "image/png": "[encoded data removed]",
      "text/plain": [
       "<Figure size 1300x500 with 1 Axes>"
      ]
     },
     "metadata": {},
     "output_type": "display_data"
    }
   ],
   "source": [
    "sns.set_style('whitegrid')\n",
    "plt.figure(figsize=(13,5))\n",
    "plt.title(\"Units Sold per Year\", fontsize=15)\n",
    "sns.lineplot(x=df['Year'],y=df['Units Sold'], color='orange')\n",
    "plt.show()"
   ]
  },
  {
   "cell_type": "code",
   "execution_count": 26,
   "id": "bd6bc92d",
   "metadata": {
    "execution": {
     "iopub.execute_input": "2025-04-22T01:19:01.954439Z",
     "iopub.status.busy": "2025-04-22T01:19:01.954120Z",
     "iopub.status.idle": "2025-04-22T01:19:02.452249Z",
     "shell.execute_reply": "2025-04-22T01:19:02.451376Z"
    },
    "papermill": {
     "duration": 0.509816,
     "end_time": "2025-04-22T01:19:02.453859",
     "exception": false,
     "start_time": "2025-04-22T01:19:01.944043",
     "status": "completed"
    },
    "tags": []
   },
   "outputs": [
    {
     "name": "stderr",
     "output_type": "stream",
     "text": [
      "/usr/local/lib/python3.11/dist-packages/seaborn/_oldcore.py:1119: FutureWarning: use_inf_as_na option is deprecated and will be removed in a future version. Convert inf values to NaN before operating instead.\n",
      "  with pd.option_context('mode.use_inf_as_na', True):\n",
      "/usr/local/lib/python3.11/dist-packages/seaborn/_oldcore.py:1119: FutureWarning: use_inf_as_na option is deprecated and will be removed in a future version. Convert inf values to NaN before operating instead.\n",
      "  with pd.option_context('mode.use_inf_as_na', True):\n"
     ]
    },
    {
     "data": {
      "image/png": "[encoded data removed]",
      "text/plain": [
       "<Figure size 1300x500 with 1 Axes>"
      ]
     },
     "metadata": {},
     "output_type": "display_data"
    }
   ],
   "source": [
    "plt.figure(figsize=(13,5))\n",
    "plt.title('Units Sold per Month', fontsize=15)\n",
    "sns.lineplot(x=df['Month'],y=df['Units Sold'], color='purple')\n",
    "plt.show()"
   ]
  },
  {
   "cell_type": "code",
   "execution_count": 27,
   "id": "6cd2a4f2",
   "metadata": {
    "execution": {
     "iopub.execute_input": "2025-04-22T01:19:02.474062Z",
     "iopub.status.busy": "2025-04-22T01:19:02.473780Z",
     "iopub.status.idle": "2025-04-22T01:19:02.483709Z",
     "shell.execute_reply": "2025-04-22T01:19:02.482874Z"
    },
    "papermill": {
     "duration": 0.021516,
     "end_time": "2025-04-22T01:19:02.485178",
     "exception": false,
     "start_time": "2025-04-22T01:19:02.463662",
     "status": "completed"
    },
    "tags": []
   },
   "outputs": [
    {
     "data": {
      "text/plain": [
       "<Figure size 1300x500 with 0 Axes>"
      ]
     },
     "execution_count": 27,
     "metadata": {},
     "output_type": "execute_result"
    },
    {
     "data": {
      "text/plain": [
       "<Figure size 1300x500 with 0 Axes>"
      ]
     },
     "metadata": {},
     "output_type": "display_data"
    }
   ],
   "source": [
    "plt.figure(figsize=(13,5))\n",
    "# sns.lineplot(x=)"
   ]
  }
 ],
 "metadata": {
  "kaggle": {
   "accelerator": "none",
   "dataSources": [
    {
     "datasetId": 7100876,
     "sourceId": 11348686,
     "sourceType": "datasetVersion"
    }
   ],
   "dockerImageVersionId": 31012,
   "isGpuEnabled": false,
   "isInternetEnabled": true,
   "language": "python",
   "sourceType": "notebook"
  },
  "kernelspec": {
   "display_name": "Python 3",
   "language": "python",
   "name": "python3"
  },
  "language_info": {
   "codemirror_mode": {
    "name": "ipython",
    "version": 3
   },
   "file_extension": ".py",
   "mimetype": "text/x-python",
   "name": "python",
   "nbconvert_exporter": "python",
   "pygments_lexer": "ipython3",
   "version": "3.11.11"
  },
  "papermill": {
   "default_parameters": {},
   "duration": 11.596399,
   "end_time": "2025-04-22T01:19:03.215861",
   "environment_variables": {},
   "exception": null,
   "input_path": "__notebook__.ipynb",
   "output_path": "__notebook__.ipynb",
   "parameters": {},
   "start_time": "2025-04-22T01:18:51.619462",
   "version": "2.6.0"
  }
 },
 "nbformat": 4,
 "nbformat_minor": 5
}
